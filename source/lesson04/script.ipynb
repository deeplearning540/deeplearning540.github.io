{
 "cells": [
  {
   "cell_type": "markdown",
   "metadata": {
    "collapsed": false
   },
   "source": [
    "# Lesson 04: Classification Performance ROCs\n",
    "\n",
    "- evaluating and comparing trained models is of extreme importance when deciding in favor/against\n",
    "  + model architectures\n",
    "  + hyperparameter sets\n",
    "  \n",
    "- evaluating performance or quality of prediction is performed with a myriad of tests, figure-of-merits and even statistical hypothesis testing\n",
    "- in the following, the rather popular \"Receiver Operating Characteristic\" curve (spoken ROC curve)\n",
    "- the ROC was invented in WWII by radar engineers when seeking to detect enemy vessels and comparing different devices/techniques\n"
   ]
  },
  {
   "cell_type": "markdown",
   "metadata": {
    "collapsed": false
   },
   "source": [
    "## preface\n",
    "- two main ingredients to ROC:\n",
    "\n",
    "    + TPR = True Positive Rate\n",
    "    + FPR = False Positive Rate\n",
    "    "
   ]
  },
  {
   "cell_type": "markdown",
   "metadata": {
    "collapsed": false
   },
   "source": [
    "![from Wikipedia, ROC article](https://raw.githubusercontent.com/deeplearning540/lesson04/main/images/Screenshot_2021-02-24-Wikipedia-ROC.png)\n",
    "\n",
    "- $TPR = \\frac{TP}{TP+FN}$ also known as `recall`, always within $[0,1]$\n",
    "- $FPR = \\frac{FP}{FP+TN}$ also known as `fall-out`, always within $[0,1]$"
   ]
  },
  {
   "cell_type": "markdown",
   "metadata": {
    "collapsed": false
   },
   "source": [
    "## Data\n",
    "\n",
    "For the following, I will rely (again) on the Palmer penguin dataset obtained from [this repo](https://github.com/allisonhorst/palmerpenguins). To quote the repo:\n",
    "\n",
    "> Data were collected and made available by [Dr. Kristen Gorman](https://www.uaf.edu/cfos/people/faculty/detail/kristen-gorman.php)\n",
    "> and the [Palmer Station, Antarctica LTER](https://pal.lternet.edu/), a member of the [Long Term Ecological Research Network](https://lternet.edu/).\n"
   ]
  },
  {
   "cell_type": "code",
   "execution_count": 1,
   "metadata": {
    "collapsed": false
   },
   "outputs": [],
   "source": [
    "import pandas as pd\n",
    "import numpy as np"
   ]
  },
  {
   "cell_type": "code",
   "execution_count": 2,
   "metadata": {
    "collapsed": false
   },
   "outputs": [],
   "source": [
    "df = pd.read_csv(\"https://raw.githubusercontent.com/allisonhorst/palmerpenguins/master/inst/extdata/penguins.csv\")\n",
    "#let's remove the rows with NaN values\n",
    "df = df[ df.bill_length_mm.notnull() ]\n",
    "#convert species column to \n",
    "df[[\"species_\"]] = df[[\"species\"]].astype(\"category\")\n"
   ]
  },
  {
   "cell_type": "code",
   "execution_count": 3,
   "metadata": {
    "collapsed": false
   },
   "outputs": [
    {
     "name": "stdout",
     "output_type": "stream",
     "text": [
      "(342, 9)\n",
      "(342,)\n",
      "  species     island  bill_length_mm  bill_depth_mm  flipper_length_mm  \\\n",
      "0  Adelie  Torgersen            39.1           18.7              181.0   \n",
      "1  Adelie  Torgersen            39.5           17.4              186.0   \n",
      "2  Adelie  Torgersen            40.3           18.0              195.0   \n",
      "4  Adelie  Torgersen            36.7           19.3              193.0   \n",
      "5  Adelie  Torgersen            39.3           20.6              190.0   \n",
      "\n",
      "   body_mass_g     sex  year species_  is_adelie  \n",
      "0       3750.0    male  2007   Adelie          1  \n",
      "1       3800.0  female  2007   Adelie          1  \n",
      "2       3250.0  female  2007   Adelie          1  \n",
      "4       3450.0  female  2007   Adelie          1  \n",
      "5       3650.0    male  2007   Adelie          1  \n"
     ]
    }
   ],
   "source": [
    "print(df.shape)\n",
    "print((df.species_.cat.codes < 1).shape)\n",
    "\n",
    "#create binary column\n",
    "df[\"is_adelie\"] = (df.species_.cat.codes < 1).astype(np.int8)\n",
    "\n",
    "print(df.head())\n"
   ]
  },
  {
   "cell_type": "code",
   "execution_count": 4,
   "metadata": {
    "collapsed": false
   },
   "outputs": [
    {
     "name": "stdout",
     "output_type": "stream",
     "text": [
      "seaborn version: 0.10.1\n"
     ]
    }
   ],
   "source": [
    "import matplotlib.pyplot as plt\n",
    "plt.style.use('dark_background')\n",
    "import seaborn as sns\n",
    "print(f'seaborn version: {sns.__version__}')"
   ]
  },
  {
   "cell_type": "code",
   "execution_count": 5,
   "metadata": {
    "collapsed": false
   },
   "outputs": [],
   "source": [
    "from sklearn.neighbors import KNeighborsClassifier as knn\n",
    "from sklearn.model_selection import train_test_split\n",
    "\n",
    "kmeans = knn(n_neighbors=5)"
   ]
  },
  {
   "cell_type": "code",
   "execution_count": 6,
   "metadata": {
    "collapsed": false
   },
   "outputs": [
    {
     "name": "stdout",
     "output_type": "stream",
     "text": [
      "(342, 2)\n",
      "(342,)\n"
     ]
    }
   ],
   "source": [
    "#this time we train the knn algorithm, i.e. an unsupervised method is used in a supervised fashion\n",
    "#prepare the data\n",
    "X = np.stack((df.bill_length_mm, df.flipper_length_mm), axis=-1)\n",
    "y = df.is_adelie\n",
    "\n",
    "print(X.shape)\n",
    "print(y.shape)\n"
   ]
  },
  {
   "cell_type": "code",
   "execution_count": 7,
   "metadata": {
    "collapsed": false
   },
   "outputs": [
    {
     "name": "stdout",
     "output_type": "stream",
     "text": [
      "(290, 2)\n",
      "(290,)\n",
      "(52, 2)\n",
      "(52,)\n"
     ]
    }
   ],
   "source": [
    "X_train, X_test, y_train, y_test = train_test_split(X, y,\n",
    "                                                    test_size = .15,\n",
    "                                                    random_state = 20210303)\n",
    "\n",
    "print(X_train.shape)\n",
    "print(y_train.shape)\n",
    "\n",
    "\n",
    "print(X_test.shape)\n",
    "print(y_test.shape)\n",
    "\n"
   ]
  },
  {
   "cell_type": "code",
   "execution_count": 8,
   "metadata": {
    "collapsed": false
   },
   "outputs": [],
   "source": [
    "kmeans = kmeans.fit(X_train, y_train)\n"
   ]
  },
  {
   "cell_type": "code",
   "execution_count": 9,
   "metadata": {
    "collapsed": false
   },
   "outputs": [
    {
     "name": "stdout",
     "output_type": "stream",
     "text": [
      "[[26  1]\n",
      " [ 3 22]]\n"
     ]
    }
   ],
   "source": [
    "from sklearn.metrics import confusion_matrix, ConfusionMatrixDisplay\n",
    "\n",
    "y_test_hat = kmeans.predict(X_test)\n",
    "\n",
    "cm = confusion_matrix( y_test, y_test_hat )\n",
    "\n",
    "print(cm)\n"
   ]
  },
  {
   "cell_type": "code",
   "execution_count": 10,
   "metadata": {
    "collapsed": false
   },
   "outputs": [
    {
     "name": "stdout",
     "output_type": "stream",
     "text": [
      "1\n"
     ]
    },
    {
     "data": {
      "image/png": "[encoded data removed]",
      "text/plain": [
       "<Figure size 432x288 with 2 Axes>"
      ]
     },
     "metadata": {},
     "output_type": "display_data"
    }
   ],
   "source": [
    "from sklearn.metrics import ConfusionMatrixDisplay\n",
    "disp = ConfusionMatrixDisplay(confusion_matrix=cm)\n",
    "disp.plot()\n",
    "print(int(True))"
   ]
  },
  {
   "cell_type": "markdown",
   "metadata": {
    "collapsed": false
   },
   "source": [
    "# Starting to ROC\n",
    "\n",
    "- let's take 4 samples of different size from our test set (as if we would conduct 4 experiments)\n"
   ]
  },
  {
   "cell_type": "code",
   "execution_count": 11,
   "metadata": {
    "collapsed": false
   },
   "outputs": [
    {
     "name": "stdout",
     "output_type": "stream",
     "text": [
      "(8, 2)\n",
      "(8,)\n"
     ]
    },
    {
     "data": {
      "text/plain": [
       "[array([1, 1, 1, 0, 0, 1, 1, 1], dtype=int8),\n",
       " array([0, 0, 0, 0, 1, 1, 1, 1], dtype=int8),\n",
       " array([0, 0, 1, 1, 0, 1, 0, 0], dtype=int8),\n",
       " array([1, 1, 1, 0, 0, 1, 1, 0], dtype=int8)]"
      ]
     },
     "execution_count": 11,
     "metadata": {},
     "output_type": "execute_result"
    }
   ],
   "source": [
    "n_experiments = 4\n",
    "\n",
    "X_test_exp = np.split(X_test[:32,...],n_experiments,axis=0)\n",
    "y_test_exp = np.split(y_test.values[:32,...],n_experiments,axis=0)\n",
    "\n",
    "print(X_test_exp[0].shape)\n",
    "print(y_test_exp[0].shape)\n",
    "y_test_exp"
   ]
  },
  {
   "cell_type": "code",
   "execution_count": 12,
   "metadata": {
    "collapsed": false
   },
   "outputs": [],
   "source": [
    "y_test_hat = kmeans.predict(X_test)\n",
    "y_test_hat_exp = np.split(y_test_hat[:32,...],n_experiments,axis=0)\n",
    "\n"
   ]
  },
  {
   "cell_type": "code",
   "execution_count": 13,
   "metadata": {
    "collapsed": false
   },
   "outputs": [
    {
     "name": "stdout",
     "output_type": "stream",
     "text": [
      "[0.8333333333333334, 1.0, 1.0, 1.0]\n",
      "[0.0, 0.2, 0.0, 0.0]\n"
     ]
    }
   ],
   "source": [
    "#let's compute tpr and fpr for each\n",
    "from sklearn.metrics import recall_score as tpr\n",
    "\n",
    "def fpr(y_true, y_pred):\n",
    "    \"\"\" compute the false positive rate using the confusion_matrix\"\"\"\n",
    "    cm = confusion_matrix(y_true, y_pred)\n",
    "    assert cm.shape == (2,2), f\"{y_true.shape, y_pred.shape} => {cm,cm.shape}\"\n",
    "    cond_negative = cm[:,1].sum()\n",
    "    value = cm[0,1] / cond_negative\n",
    "    return value\n",
    "\n",
    "tpr_ = []\n",
    "fpr_ = []\n",
    "\n",
    "for i in range(len(y_test_exp)):\n",
    "\n",
    "    tpr_.append(tpr(y_test_exp[i], y_test_hat_exp[i]))\n",
    "    fpr_.append(fpr(y_test_exp[i], y_test_hat_exp[i]))\n",
    "\n",
    "print(tpr_)\n",
    "print(fpr_)"
   ]
  },
  {
   "cell_type": "code",
   "execution_count": 14,
   "metadata": {
    "collapsed": false
   },
   "outputs": [
    {
     "data": {
      "text/plain": [
       "(0.0, 1.0)"
      ]
     },
     "execution_count": 14,
     "metadata": {},
     "output_type": "execute_result"
    },
    {
     "data": {
      "image/png": "[encoded data removed]",
      "text/plain": [
       "<Figure size 432x288 with 1 Axes>"
      ]
     },
     "metadata": {},
     "output_type": "display_data"
    }
   ],
   "source": [
    "f, ax = plt.subplots(1)\n",
    "\n",
    "ax.plot(fpr_, tpr_, 'ro', markersize=10)\n",
    "ax.set_xlabel('False Positive Rate')\n",
    "ax.set_ylabel('True Positive Rate')\n",
    "ax.set_xlim(0,1)\n",
    "ax.set_ylim(0,1)\n"
   ]
  },
  {
   "cell_type": "markdown",
   "metadata": {
    "collapsed": false
   },
   "source": [
    "# But how to get from single entries to a full curve?\n",
    "\n",
    "- in our case, we can employ the positive class prediction probabilities\n",
    "- for KNN, this is given by the amount of N(true label)/N in the neighborhood around a query point"
   ]
  },
  {
   "cell_type": "code",
   "execution_count": 15,
   "metadata": {
    "collapsed": false
   },
   "outputs": [
    {
     "data": {
      "text/plain": [
       "array([[0. , 1. ],\n",
       "       [0. , 1. ],\n",
       "       [0. , 1. ],\n",
       "       [1. , 0. ],\n",
       "       [1. , 0. ],\n",
       "       [0. , 1. ],\n",
       "       [0. , 1. ],\n",
       "       [0.8, 0.2],\n",
       "       [0.4, 0.6],\n",
       "       [0.6, 0.4]])"
      ]
     },
     "execution_count": 15,
     "metadata": {},
     "output_type": "execute_result"
    }
   ],
   "source": [
    "kmeans.predict_proba(X_test[:10])\n"
   ]
  },
  {
   "cell_type": "markdown",
   "metadata": {
    "collapsed": false
   },
   "source": [
    "![taken from Sebastian Raschka's Introduction to Machine Learning](https://raw.githubusercontent.com/deeplearning540/lesson03/main/images/raschka_knn_p28.png)\n",
    "- demonstrates how kNN classifyer is similar to `RandomForests`, `SVM`, ... :\n",
    "  + spacial interpretation of the class prediction probability\n",
    "  + the higher the probability for a sample, the more likely the sample belongs to `Adelie` in our case (i.e. the positive class in a binary classification setup)\n",
    "  "
   ]
  },
  {
   "cell_type": "markdown",
   "metadata": {
    "collapsed": false
   },
   "source": [
    "- relating this again to \n",
    "\n",
    "![inspired by Sebastian Raschka's Introduction to Machine Learning](https://raw.githubusercontent.com/deeplearning540/lesson03/main/images/viz-confusion-matrix.png)\n",
    "\n",
    "the decision threshold for a `5`-neighborhood with a binary classification task is `0.6`, i.e. 3 of 5 neighbors have the positive class (then our query point will get the positive class assigned)\n",
    "\n",
    "- knowing these positive class prediction probabilities, I can now draw an envelope that gives me the ROC from the test set as with these probabilites and the theoretical threshold, we can compute FPR and TPR\n",
    "\n"
   ]
  },
  {
   "cell_type": "code",
   "execution_count": 16,
   "metadata": {
    "collapsed": false
   },
   "outputs": [
    {
     "name": "stdout",
     "output_type": "stream",
     "text": [
      "false positive rate\n",
      " [0.         0.         0.         0.07407407 0.11111111 1.        ]\n",
      "true positive rate\n",
      " [0.   0.8  0.88 0.88 0.92 1.  ]\n",
      "thresholds\n",
      " [2.  1.  0.8 0.4 0.2 0. ]\n"
     ]
    }
   ],
   "source": [
    "from sklearn.metrics import roc_curve\n",
    "\n",
    "probs = kmeans.predict_proba(X_test)\n",
    "pos_pred_probs = probs[:,-1]\n",
    "\n",
    "fpr, tpr, thr = roc_curve(y_test, pos_pred_probs)\n",
    "\n",
    "print('false positive rate\\n',fpr)\n",
    "print('true positive rate\\n',tpr)\n",
    "print('thresholds\\n',thr)\n",
    "\n"
   ]
  },
  {
   "cell_type": "code",
   "execution_count": 17,
   "metadata": {
    "collapsed": false
   },
   "outputs": [
    {
     "data": {
      "image/png": "[encoded data removed]",
      "text/plain": [
       "<Figure size 432x288 with 1 Axes>"
      ]
     },
     "metadata": {},
     "output_type": "display_data"
    }
   ],
   "source": [
    "from sklearn.metrics import RocCurveDisplay\n",
    "\n",
    "roc = RocCurveDisplay.from_estimator(kmeans, X_test, y_test)\n"
   ]
  },
  {
   "cell_type": "markdown",
   "metadata": {
    "collapsed": false
   },
   "source": [
    "- difference to plot with single entries? (size of test set -> only discrete values for single experiments, limited amount of samples)\n",
    "- summary of curve possible: AUC = area under curve\n",
    "- TPR and FPR used for ROC only -> similar plots possible with other variables, e.g. precision_recall_curve"
   ]
  },
  {
   "cell_type": "markdown",
   "metadata": {
    "collapsed": false
   },
   "source": [
    "# Take-Aways\n",
    "\n",
    "<p><a href=\"https://commons.wikimedia.org/wiki/File:Roc-draft-xkcd-style.svg#/media/File:Roc-draft-xkcd-style.svg\"><img src=\"https://upload.wikimedia.org/wikipedia/commons/thumb/3/36/Roc-draft-xkcd-style.svg/640px-Roc-draft-xkcd-style.svg.png\" alt=\"Roc-draft-xkcd-style.svg\"></a><br>By <a href=\"//commons.wikimedia.org/wiki/User:MartinThoma\" title=\"User:MartinThoma\">MartinThoma</a> - <span class=\"int-own-work\" lang=\"en\">Own work</span>, <a href=\"http://creativecommons.org/publicdomain/zero/1.0/deed.en\" title=\"Creative Commons Zero, Public Domain Dedication\">CC0</a>, <a href=\"https://commons.wikimedia.org/w/index.php?curid=70212136\">Link</a></p>\n",
    "\n",
    "- nearest neighbor clustering algorithms are able to offer a probabilistic score for each predicted datum based on the neighborhood chosen \n",
    "- the ROC is an envelope that describes how well a classifyer performs given a fixed testset\n",
    "- ROC expresses the balance between true-positives and false positives\n"
   ]
  },
  {
   "cell_type": "markdown",
   "metadata": {
    "collapsed": false
   },
   "source": [
    "# Further Reading\n",
    "\n",
    "- some parts of this material were inspired by [Sebastian Raschka](https://sebastianraschka.com)\n",
    "  + [lecture 12.4, Receiver Operating Curve](https://youtu.be/GdSEkiArM3k)\n",
    "  \n",
    "- a generally good resource \n",
    "  + [Confusion_matrix](https://en.wikipedia.org/wiki/Confusion_matrix)\n",
    "  \n",
    "- all of the above is nicely implemented and documented \n",
    "  + [sklearn examples](https://scikit-learn.org/stable/auto_examples/model_selection/plot_roc.html#sphx-glr-auto-examples-model-selection-plot-roc-py)\n",
    "  + [roc_curve API docs](https://scikit-learn.org/stable/modules/generated/sklearn.metrics.roc_curve.html#sklearn.metrics.roc_curve)\n",
    "\n",
    "- [extensive discussion of ROC](https://stackabuse.com/understanding-roc-curves-with-python/)\n",
    "  "
   ]
  },
  {
   "cell_type": "code",
   "execution_count": null,
   "metadata": {
    "collapsed": false
   },
   "outputs": [],
   "source": []
  }
 ],
 "metadata": {
  "kernelspec": {
   "argv": [
    "python",
    "-m",
    "ipykernel_launcher",
    "-f",
    "{connection_file}"
   ],
   "display_name": "Python 3",
   "env": null,
   "interrupt_mode": "signal",
   "language": "python",
   "metadata": null,
   "name": "python3"
  },
  "name": "script.ipynb"
 },
 "nbformat": 4,
 "nbformat_minor": 4
}
