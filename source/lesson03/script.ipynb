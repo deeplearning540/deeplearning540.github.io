{
 "cells": [
  {
   "cell_type": "markdown",
   "metadata": {},
   "source": [
    "# Lesson 03: From Clustering To Classification\n",
    "\n",
    "(part 1 of the video)"
   ]
  },
  {
   "cell_type": "markdown",
   "metadata": {},
   "source": [
    "## k-nearest neighbor clustering\n",
    "Recap the kmeans clustering result:\n",
    "\n",
    "![by Weston.pace, from commons.wikimedia.org under CC-BY-SA 3.0](https://upload.wikimedia.org/wikipedia/commons/thumb/d/d2/K_Means_Example_Step_4.svg/278px-K_Means_Example_Step_4.svg.png)\n",
    "\n",
    "- in this case, we have $k=3$ clusters and hence have produced a dataset of form  \n",
    "$ \\mathcal{D}_{k=3} = \\{ \\langle \\vec{x}_{1}, f(\\vec{x}_{1}) \\rangle, \\dots \\} $ \n",
    "  + where $f$ denotes a class label of a cluster, e.g. if $\\vec{x}_{1}$ belongs to cluster $2$, then $f(\\vec{x}_{1}) = 2$\n",
    "  + in other words $f(\\vec{x}_{1})$ represents the mathematical mapping that our `kmeans` applies to our dataset\n",
    "  "
   ]
  },
  {
   "cell_type": "markdown",
   "metadata": {},
   "source": [
    "## going for classification\n",
    "\n",
    "- to use this for classification, we want to start from a fully labelled dataset\n",
    "- given an unseen query point $\\vec{x}_{q}$, we would like to know what cluster it belongs to\n",
    "\n",
    "![by Sebastian Raschka, Stat 451: intro to ML](https://raw.githubusercontent.com/deeplearning540/lesson03/main/images/raschka_knn_p28.png)\n"
   ]
  },
  {
   "cell_type": "markdown",
   "metadata": {},
   "source": [
    "- there are multiple options how to decide to which class the query point belongs to\n",
    "\n",
    "![by Sebastian Raschka, Stat 451: intro to ML](https://raw.githubusercontent.com/deeplearning540/lesson03/main/images/raschka_knn_p29.png)\n",
    "\n",
    "- **note** that the choice of $k$ determines the radius in this image above, here $k=5$ was set\n"
   ]
  },
  {
   "cell_type": "markdown",
   "metadata": {},
   "source": [
    "- the plurality vote is mathematically known as the **mode** of a distribution of discrete numbers, i.e. the category with highest frequency wins\n",
    "\n",
    "![by Sebastian Raschka, Stat 451: intro to ML](https://raw.githubusercontent.com/deeplearning540/lesson03/main/images/raschka_knn_p30.png)\n",
    "\n",
    "- important: what hyper parameters govern the decision boundary?\n",
    "  + the choice of distance metric, e.g. euclidean distance\n",
    "  + the number of neighbors to consider, i.e. $k$\n",
    "  "
   ]
  },
  {
   "cell_type": "markdown",
   "metadata": {},
   "source": [
    "# Using kNN classification\n"
   ]
  },
  {
   "cell_type": "markdown",
   "metadata": {},
   "source": [
    "## Data\n",
    "\n",
    "For the following, I will rely (again) on the Palmer penguin dataset obtained from [this repo](https://github.com/allisonhorst/palmerpenguins). To quote the repo:\n",
    "\n",
    "> Data were collected and made available by [Dr. Kristen Gorman](https://www.uaf.edu/cfos/people/faculty/detail/kristen-gorman.php)\n",
    "> and the [Palmer Station, Antarctica LTER](https://pal.lternet.edu/), a member of the [Long Term Ecological Research Network](https://lternet.edu/).\n"
   ]
  },
  {
   "cell_type": "code",
   "execution_count": 1,
   "metadata": {},
   "outputs": [
    {
     "name": "stdout",
     "output_type": "stream",
     "text": [
      "pandas version: 1.0.5\n"
     ]
    }
   ],
   "source": [
    "import pandas as pd\n",
    "print(\"pandas version:\", pd.__version__)\n"
   ]
  },
  {
   "cell_type": "code",
   "execution_count": 2,
   "metadata": {},
   "outputs": [
    {
     "name": "stdout",
     "output_type": "stream",
     "text": [
      "  species     island  bill_length_mm  bill_depth_mm  flipper_length_mm  \\\n",
      "0  Adelie  Torgersen            39.1           18.7              181.0   \n",
      "1  Adelie  Torgersen            39.5           17.4              186.0   \n",
      "2  Adelie  Torgersen            40.3           18.0              195.0   \n",
      "4  Adelie  Torgersen            36.7           19.3              193.0   \n",
      "5  Adelie  Torgersen            39.3           20.6              190.0   \n",
      "\n",
      "   body_mass_g     sex  year species_  \n",
      "0       3750.0    male  2007   Adelie  \n",
      "1       3800.0  female  2007   Adelie  \n",
      "2       3250.0  female  2007   Adelie  \n",
      "4       3450.0  female  2007   Adelie  \n",
      "5       3650.0    male  2007   Adelie  \n"
     ]
    }
   ],
   "source": [
    "df = pd.read_csv(\"https://raw.githubusercontent.com/allisonhorst/palmerpenguins/master/inst/extdata/penguins.csv\")\n",
    "#let's remove the rows with NaN values\n",
    "df = df[ df.bill_length_mm.notnull() ]\n",
    "\n",
    "#convert species column to \n",
    "df[[\"species_\"]] = df[[\"species\"]].astype(\"category\")\n",
    "\n",
    "print(df.head())\n"
   ]
  },
  {
   "cell_type": "code",
   "execution_count": 3,
   "metadata": {},
   "outputs": [
    {
     "name": "stdout",
     "output_type": "stream",
     "text": [
      "species_ encoding:\n",
      "0 : Adelie\n",
      "1 : Chinstrap\n",
      "2 : Gentoo\n"
     ]
    }
   ],
   "source": [
    "print(\"species_ encoding:\")\n",
    "print(\"\\n\".join([ str(item)+\" : \"+df.species_.cat.categories[item] for item in range(len(df.species_.cat.categories)) ]))"
   ]
  },
  {
   "cell_type": "code",
   "execution_count": 4,
   "metadata": {},
   "outputs": [
    {
     "name": "stdout",
     "output_type": "stream",
     "text": [
      "seaborn version: 0.10.1\n"
     ]
    }
   ],
   "source": [
    "import matplotlib.pyplot as plt\n",
    "plt.style.use('dark_background')\n",
    "import seaborn as sns\n",
    "print(f'seaborn version: {sns.__version__}')"
   ]
  },
  {
   "cell_type": "code",
   "execution_count": 5,
   "metadata": {},
   "outputs": [],
   "source": [
    "from sklearn.neighbors import KNeighborsClassifier as knn\n",
    "import numpy as np\n",
    "kmeans = knn(n_neighbors=3)\n"
   ]
  },
  {
   "cell_type": "code",
   "execution_count": 6,
   "metadata": {},
   "outputs": [
    {
     "name": "stdout",
     "output_type": "stream",
     "text": [
      "(342, 2)\n",
      "(342,)\n"
     ]
    }
   ],
   "source": [
    "#this time we train the knn algorithm, i.e. an unsupervised method is used in a supervised fashion\n",
    "#prepare the data\n",
    "X = np.stack((df.bill_length_mm, df.flipper_length_mm), axis=-1)\n",
    "y = df.species_.cat.codes.values\n",
    "\n",
    "print(X.shape)\n",
    "print(y.shape)\n"
   ]
  },
  {
   "cell_type": "code",
   "execution_count": 7,
   "metadata": {},
   "outputs": [
    {
     "name": "stdout",
     "output_type": "stream",
     "text": [
      "0    151\n",
      "2    123\n",
      "1     68\n",
      "dtype: int64\n"
     ]
    }
   ],
   "source": [
    "#to create a fair comparison, we hold out a certain amount of the dataset\n",
    "#so that we can test the algorithm on unseen samples\n",
    "from sklearn.model_selection import train_test_split\n",
    "\n",
    "#check class balances first\n",
    "print(y.value_counts())\n",
    "\n"
   ]
  },
  {
   "cell_type": "code",
   "execution_count": 8,
   "metadata": {},
   "outputs": [
    {
     "name": "stdout",
     "output_type": "stream",
     "text": [
      "(307, 2)\n",
      "(307,)\n",
      "(35, 2)\n",
      "(35,)\n"
     ]
    }
   ],
   "source": [
    "X_train, X_test, y_train, y_test = train_test_split(X, y,\n",
    "                                                    test_size = .1,\n",
    "                                                    random_state = 20210301)\n",
    "\n",
    "print(X_train.shape)\n",
    "print(y_train.shape)\n",
    "\n",
    "\n",
    "print(X_test.shape)\n",
    "print(y_test.shape)\n",
    "\n"
   ]
  },
  {
   "cell_type": "code",
   "execution_count": 9,
   "metadata": {},
   "outputs": [
    {
     "name": "stdout",
     "output_type": "stream",
     "text": [
      "[ 39.1 181. ] [ 40.3 195. ]\n",
      "[ 39.5 186. ] [ 42. 200.]\n",
      "[ 40.3 195. ] [ 49.4 216. ]\n",
      "[ 36.7 193. ] [ 42.7 196. ]\n",
      "[ 39.3 190. ] [ 47.5 199. ]\n",
      "[ 38.9 181. ] [ 41.3 194. ]\n",
      "[ 39.2 195. ] [ 37.3 192. ]\n",
      "[ 34.1 193. ] [ 37.8 180. ]\n",
      "[ 42. 190.] [ 46.2 217. ]\n",
      "[ 37.8 186. ] [ 46.2 187. ]\n"
     ]
    }
   ],
   "source": [
    "#train_test_split shuffles the data\n",
    "#this is a precaution to prevent the algorithm from learning a sequence\n",
    "#(the latter doesn't apply in this case)\n",
    "\n",
    "for i in range(10):\n",
    "    print(X[i], X_train[i])\n",
    "    "
   ]
  },
  {
   "cell_type": "code",
   "execution_count": 10,
   "metadata": {},
   "outputs": [],
   "source": [
    "kmeans = kmeans.fit(X_train, y_train)\n"
   ]
  },
  {
   "cell_type": "code",
   "execution_count": 11,
   "metadata": {},
   "outputs": [
    {
     "name": "stdout",
     "output_type": "stream",
     "text": [
      "[[ 45.1 215. ]] (1, 2)\n",
      "predicted label [2], true label 2\n"
     ]
    }
   ],
   "source": [
    "#let's test our prediction for a single unseen item\n",
    "x0_test = X_test[0].reshape(1,2)\n",
    "print(x0_test, x0_test.shape)\n",
    "\n",
    "y0_test_hat = kmeans.predict(x0_test)\n",
    "\n",
    "print(f\"predicted label {y0_test_hat}, true label {y_test.values[0]}\")\n"
   ]
  },
  {
   "cell_type": "code",
   "execution_count": 12,
   "metadata": {},
   "outputs": [
    {
     "name": "stdout",
     "output_type": "stream",
     "text": [
      "32 out of 35 were correctly predicted\n"
     ]
    }
   ],
   "source": [
    "#does this hold for the entire test set?\n",
    "y_test_hat = kmeans.predict(X_test)\n",
    "n_correct = (y_test_hat == y_test.values).sum()\n",
    "print(f\"{n_correct} out of {y_test.size} were correctly predicted\")"
   ]
  },
  {
   "cell_type": "markdown",
   "metadata": {},
   "source": [
    "# Evaluating Classifications\n",
    "\n",
    "(part 2 of the video)\n",
    "\n",
    "Let's make our lives a bit easier and only look at a binary classification problem."
   ]
  },
  {
   "cell_type": "code",
   "execution_count": 49,
   "metadata": {},
   "outputs": [
    {
     "name": "stdout",
     "output_type": "stream",
     "text": [
      "[0 0 0 1 0 1 0 0 0 1 1 0 1 0 0 1 1 0 1 1 1 0 0 0 0 1 1 1 1 1 0 1 0 1 0]\n",
      "[0 0 0 1 0 1 0 0 0 1 1 0 0 0 0 1 1 0 1 1 1 0 0 0 0 0 1 0 1 1 0 1 0 1 0]\n"
     ]
    }
   ],
   "source": [
    "#to make our lives a bit easier, let's focus on a binary classification problem\n",
    "#for this, let's focus on classifying label 0 only, labels 1 & 2 are summarized into one label\n",
    "\n",
    "#effectively, we are only checking if a datum is assigned to the Adele species\n",
    "#that is, if the class code is 0, then this is an Adelie penguin\n",
    "binary_y_test_hat = (y_test_hat < 1).astype(np.int8)\n",
    "binary_y_test = (y_test.values < 1).astype(np.int8)\n",
    "\n",
    "print(binary_y_test_hat)\n",
    "print(binary_y_test)\n",
    "#this in turn means that Adelie gets class code `1` now and the other species `0`"
   ]
  },
  {
   "cell_type": "markdown",
   "metadata": {},
   "source": [
    "## Confusion Matrix\n",
    "As we use the dataset in a supervised fashion, we know the ground truth by `binary_y_test`. This is our true condition.\n",
    "\n",
    "From the predictions of our kNN classifier `binary_y_test_hat`, we obtain the predicted condition.\n",
    "\n",
    "From these 2 quantities we can form, the confusion matrix:\n",
    "\n",
    "![from wikipedia:Confusion_matrix](https://raw.githubusercontent.com/deeplearning540/lesson03/main/images/screenshot_2022-03-23-confusion-matrix-wikipedia.png)\n"
   ]
  },
  {
   "cell_type": "markdown",
   "metadata": {},
   "source": [
    "In our example with Penguins, the individual contributions come together as:\n",
    "\n",
    "- **true positives** (TP): the datum is **predicted as an Adele** penguin and really is one (correct)\n",
    "- **false negatives** (FN): the datum is **predicted as not an Adele** penguin and really is one \n",
    "- **false positives** (FP): the datum is **predicted as an Adele** penguin and but is Chinstrap or Gentoo\n",
    "- **true negatives** (TN): the datum is **predicted as not an Adele** penguin and is Chinstrap or Gentoo\n"
   ]
  },
  {
   "cell_type": "code",
   "execution_count": 36,
   "metadata": {},
   "outputs": [
    {
     "name": "stdout",
     "output_type": "stream",
     "text": [
      "[[18  3]\n",
      " [ 0 14]]\n"
     ]
    }
   ],
   "source": [
    "#sklearn can help us with this too\n",
    "from sklearn.metrics import confusion_matrix\n",
    "cm = confusion_matrix(binary_y_test, binary_y_test_hat)\n",
    "\n",
    "print(cm)\n",
    "\n",
    "#the sum of all entries must match the size of our test dataset\n",
    "assert cm.sum() == binary_y_test.size\n"
   ]
  },
  {
   "cell_type": "code",
   "execution_count": 48,
   "metadata": {},
   "outputs": [],
   "source": [
    "tn = cm[0,0]\n",
    "fp = cm[0,1]\n",
    "fn = cm[1,0]\n",
    "tp = cm[1,1]\n",
    "\n",
    "all_true = binary_y_test.sum()\n",
    "assert all_true == cm[1,:].sum()\n",
    "\n",
    "all_false = (binary_y_test == 0).sum()\n",
    "assert all_false == cm[0,:].sum()\n",
    "\n",
    "all_positive = binary_y_test_hat.sum()\n",
    "assert all_positive == cm[:,1].sum()\n",
    "\n",
    "all_negative = (binary_y_test_hat == 0).sum()\n",
    "assert all_negative == cm[:,0].sum()\n",
    "\n",
    "\n",
    "manual_tp = np.logical_and(binary_y_test == 1, binary_y_test_hat == 1).astype(np.int32).sum()\n",
    "assert tp == manual_tp, f\"{tp} != {manual_tp}\" #Adelie is code `1`, else is code 0\n",
    "\n",
    "manual_fp = np.logical_and(binary_y_test == 0, binary_y_test_hat == 1).astype(np.int32).sum()\n",
    "assert fp == manual_fp, f\"{fp} != {manual_fp}\"\n",
    "\n",
    "manual_fn = np.logical_and(binary_y_test == 1, binary_y_test_hat == 0).astype(np.int32).sum()\n",
    "assert fn == manual_fn, f\"{fn} != {manual_fn}\"\n",
    "\n",
    "assert tn == np.logical_and(binary_y_test == 0, binary_y_test_hat == 0).astype(np.int32).sum() #Adelie is code `1`, else is code 0\n",
    "\n",
    "assert ((tn, fp, fn, tp) == cm.ravel()).all(), f\"{tn, fp, fn, tp} != {cm.ravel()}\""
   ]
  },
  {
   "cell_type": "markdown",
   "metadata": {},
   "source": [
    "\n",
    "![inspired by Sebastian Raschka, Stat 451: intro to ML](https://raw.githubusercontent.com/deeplearning540/lesson03/main/images/viz-confusion-matrix.png)\n",
    "\n"
   ]
  },
  {
   "cell_type": "code",
   "execution_count": 50,
   "metadata": {},
   "outputs": [
    {
     "name": "stdout",
     "output_type": "stream",
     "text": [
      "1\n"
     ]
    },
    {
     "data": {
      "image/png": "[encoded data removed]",
      "text/plain": [
       "<Figure size 432x288 with 2 Axes>"
      ]
     },
     "metadata": {},
     "output_type": "display_data"
    }
   ],
   "source": [
    "from sklearn.metrics import ConfusionMatrixDisplay\n",
    "disp = ConfusionMatrixDisplay(confusion_matrix=cm)\n",
    "disp.plot()\n",
    "print(int(True))"
   ]
  },
  {
   "cell_type": "markdown",
   "metadata": {},
   "source": [
    "from this confusion matrix, many evaluation metrics are construction. In the following, I will concentrate on the most commonly encountered."
   ]
  },
  {
   "cell_type": "markdown",
   "metadata": {},
   "source": [
    "## Accuracy\n",
    "\n",
    "in layman's terms: how often was the prediction correct compared to the total number of guesses?"
   ]
  },
  {
   "cell_type": "code",
   "execution_count": 51,
   "metadata": {},
   "outputs": [
    {
     "name": "stdout",
     "output_type": "stream",
     "text": [
      "our kNN algorithm produced a test accuracy of 0.9142857142857143\n"
     ]
    }
   ],
   "source": [
    "total = float(cm.sum())\n",
    "accuracy = (tp + tn) / total\n",
    "\n",
    "print(f\"our kNN algorithm produced a test accuracy of {accuracy}\")\n"
   ]
  },
  {
   "cell_type": "markdown",
   "metadata": {},
   "source": [
    "## Recall (also known as true positive rate)\n",
    "\n",
    "in layman's terms: how many of the true class samples, do I get right with the prediction?"
   ]
  },
  {
   "cell_type": "code",
   "execution_count": 53,
   "metadata": {},
   "outputs": [
    {
     "name": "stdout",
     "output_type": "stream",
     "text": [
      "our kNN algorithm produced a test recall of 1.0\n"
     ]
    }
   ],
   "source": [
    "from sklearn.metrics import recall_score\n",
    "\n",
    "cond_true = tp + fn\n",
    "recall = tp / ( cond_true )\n",
    "\n",
    "print(f\"our kNN algorithm produced a test recall of {recall}\")\n",
    "assert cond_true == cm[1,:].sum()\n",
    "assert recall == recall_score(binary_y_test, binary_y_test_hat), f\"{recall} not {recall_score(binary_y_test, binary_y_test_hat)}\""
   ]
  },
  {
   "cell_type": "markdown",
   "metadata": {},
   "source": [
    "## Precision\n",
    "\n",
    "in layman's terms: from all that I predict as positive, how many are correct?"
   ]
  },
  {
   "cell_type": "code",
   "execution_count": 54,
   "metadata": {},
   "outputs": [
    {
     "name": "stdout",
     "output_type": "stream",
     "text": [
      "our kNN algorithm produced a test precision of 0.8235294117647058\n"
     ]
    }
   ],
   "source": [
    "pred_pos = tp + fp\n",
    "precision = tp / pred_pos\n",
    "\n",
    "print(f\"our kNN algorithm produced a test precision of {precision}\")"
   ]
  },
  {
   "cell_type": "markdown",
   "metadata": {},
   "source": [
    "## F1 score\n",
    "This is a combination of the recall and precision. \n",
    "$F_{1} = 2 \\cdot \\frac{PRE \\cdot REC}{PRE + REC}$\n"
   ]
  },
  {
   "cell_type": "code",
   "execution_count": 55,
   "metadata": {},
   "outputs": [
    {
     "name": "stdout",
     "output_type": "stream",
     "text": [
      "our kNN algorithm produced a test f1 of 0.9032258064516129\n"
     ]
    }
   ],
   "source": [
    "f1 = 2*precision*recall/(precision+recall)\n",
    "\n",
    "print(f\"our kNN algorithm produced a test f1 of {f1}\")"
   ]
  },
  {
   "cell_type": "markdown",
   "metadata": {},
   "source": [
    "## Summary\n",
    "\n",
    "- all evaluation metrics mentioned are within $[0,1]$\n",
    "- they all express different aspects of what can go right/wrong with classification \n",
    "- their use is specific to the domain that you are working in\n",
    "    + in biology or medicine, false positives or negatives can have large impact \n",
    "    + other disciplines value more, **what** was predicted and if it was correct\n",
    "    + important: use a common language!\n",
    "- similar approaches as above hold for multi-label classification"
   ]
  },
  {
   "cell_type": "markdown",
   "metadata": {},
   "source": [
    "# Take-Aways\n",
    "\n",
    "- nearest neighbor clustering algorithms can be used for classification \n",
    "- to quantify the performance of a classifyer, the data has to be split into a training and a test set (or more)\n",
    "- for binary classification, the central resource to calculate evaluation metrics is the confusion matrix\n",
    "- evaluation metrics express different aspects of what can go wrong/right with classification \n"
   ]
  },
  {
   "cell_type": "markdown",
   "metadata": {},
   "source": [
    "# Further Reading\n",
    "\n",
    "- some parts of this material were inspired by [Sebastian Raschka](https://sebastianraschka.com)\n",
    "  + confusion matrix [lesson 12.1](https://www.youtube.com/watch?v=07dtryhNGms)\n",
    "  + precision, recall and F1 score [lesson 12.2](https://youtu.be/yEw9oDdJkT0)\n",
    "  \n",
    "- a generally good resource \n",
    "  + [Confusion_matrix](https://en.wikipedia.org/wiki/Confusion_matrix)\n",
    "  + [precision and recall](https://en.wikipedia.org/wiki/Precision_and_recall)\n",
    "  \n",
    "- all of the above is nicely implemented and document\n",
    "  + [evaluation metrics of classifyers](https://scikit-learn.org/stable/modules/model_evaluation.html#classification-metrics)\n",
    "  + [cross validation](https://scikit-learn.org/stable/modules/cross_validation.html#cross-validation)\n",
    "\n",
    "- [extensive discussion](https://realpython.com/k-means-clustering-python/) of doing kNN with python\n",
    "  "
   ]
  },
  {
   "cell_type": "code",
   "execution_count": null,
   "metadata": {},
   "outputs": [],
   "source": []
  }
 ],
 "metadata": {
  "kernelspec": {
   "display_name": "Python 3",
   "language": "python",
   "name": "python3"
  },
  "language_info": {
   "codemirror_mode": {
    "name": "ipython",
    "version": 3
   },
   "file_extension": ".py",
   "mimetype": "text/x-python",
   "name": "python",
   "nbconvert_exporter": "python",
   "pygments_lexer": "ipython3",
   "version": "3.10.2"
  },
  "name": "script.ipynb"
 },
 "nbformat": 4,
 "nbformat_minor": 4
}
